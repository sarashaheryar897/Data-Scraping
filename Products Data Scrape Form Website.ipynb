{
 "cells": [
  {
   "cell_type": "code",
   "execution_count": 1,
   "id": "247e2ba1",
   "metadata": {},
   "outputs": [
    {
     "name": "stdout",
     "output_type": "stream",
     "text": [
      "Enter the Amazon product URL: https://www.amazon.com/s?k=iphone&crid=1SDOUIQ6Z28T0&sprefix=ipho%2Caps%2C425&ref=nb_sb_noss_2\n",
      "Enter the product name: apple\n",
      "Product availability scraped successfully.\n"
     ]
    }
   ],
   "source": [
    "import requests\n",
    "from bs4 import BeautifulSoup\n",
    "import pandas as pd\n",
    "\n",
    "def scrape_product_availability(url):\n",
    "  \"\"\"Scrapes the product availability from a given URL.\n",
    "\n",
    "  Args:\n",
    "    url: The URL of the product page.\n",
    "\n",
    "  Returns:\n",
    "    A boolean value indicating whether the product is available.\n",
    "  \"\"\"\n",
    "\n",
    "  response = requests.get(url)\n",
    "  soup = BeautifulSoup(response.content, 'html.parser')\n",
    "\n",
    "  # Find the element that contains the product availability information.\n",
    "  availability_element = soup.find('element_containing_availability_information')\n",
    "\n",
    "  # Check if the availability element is None.\n",
    "  if availability_element is not None:\n",
    "    availability_text = availability_element.text\n",
    "  else:\n",
    "    availability_text = 'Unknown'\n",
    "\n",
    "  # Convert the availability text to a boolean value.\n",
    "  availability = True if 'available' in availability_text else False\n",
    "\n",
    "  return availability\n",
    "\n",
    "def save_product_availability_to_excel(product_availability_data, excel_file_path):\n",
    "  \"\"\"Saves the scraped product availability data to an Excel file.\n",
    "\n",
    "  Args:\n",
    "    product_availability_data: A list of dictionaries, where each dictionary contains the product name and availability.\n",
    "    excel_file_path: The path to the Excel file to save the data to.\n",
    "  \"\"\"\n",
    "\n",
    "  df = pd.DataFrame(product_availability_data)\n",
    "  df['availability'] = df['availability'].apply(lambda x: 1 if x else 0)\n",
    "  df.to_excel(excel_file_path, index=True)\n",
    "\n",
    "def main():\n",
    "  # Get the Amazon product URL and product name from the user.\n",
    "  url = input('Enter the Amazon product URL: ')\n",
    "  product_name = input('Enter the product name: ')\n",
    "\n",
    "  # Scrape the product availability.\n",
    "  product_availability = scrape_product_availability(url)\n",
    "\n",
    "  # Create a dictionary to store the product name and availability.\n",
    "  product_availability_data = {\n",
    "    'product_name': product_name,\n",
    "    'availability': product_availability\n",
    "  }\n",
    "\n",
    "  # Save the product availability data to an Excel file.\n",
    "  excel_file_path = 'product_availability.xlsx'\n",
    "  save_product_availability_to_excel([product_availability_data], excel_file_path)\n",
    "\n",
    "  print('Product availability scraped successfully.')\n",
    "\n",
    "if __name__ == '__main__':\n",
    "  main()"
   ]
  },
  {
   "cell_type": "code",
   "execution_count": null,
   "id": "19410baf",
   "metadata": {},
   "outputs": [],
   "source": []
  }
 ],
 "metadata": {
  "kernelspec": {
   "display_name": "Python 3 (ipykernel)",
   "language": "python",
   "name": "python3"
  },
  "language_info": {
   "codemirror_mode": {
    "name": "ipython",
    "version": 3
   },
   "file_extension": ".py",
   "mimetype": "text/x-python",
   "name": "python",
   "nbconvert_exporter": "python",
   "pygments_lexer": "ipython3",
   "version": "3.9.13"
  }
 },
 "nbformat": 4,
 "nbformat_minor": 5
}
